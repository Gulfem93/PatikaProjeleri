{
 "cells": [
  {
   "cell_type": "markdown",
   "metadata": {},
   "source": [
    "### Example\n",
    "\n",
    "```python\n",
    "title_case('a clash of KINGS', 'a an the of') # should return: 'A Clash of Kings'\n",
    "title_case('THE WIND IN THE WILLOWS', 'The In') # should return: 'The Wind in the Willows'\n",
    "title_case('the quick brown fox') # should return: 'The Quick Brown Fox'\n",
    "```"
   ]
  },
  {
   "cell_type": "code",
   "execution_count": 139,
   "metadata": {},
   "outputs": [],
   "source": [
    "def title_case(title, minor_words = ''):\n",
    "    new_title = []\n",
    "    new_minor_words = [word.lower() for word in minor_words.split(' ')]\n",
    "\n",
    "    if not len(title):\n",
    "        return title\n",
    "\n",
    "    for index, word in enumerate(title.split(' ')):\n",
    "        if index == 0:\n",
    "            new_title.append(word.title())\n",
    "            continue\n",
    "\n",
    "        if word.lower() in new_minor_words:\n",
    "            new_title.append(word.lower())\n",
    "            continue\n",
    "\n",
    "        new_title.append(word.title())\n",
    "\n",
    "    return ' '.join(new_title)"
   ]
  },
  {
   "cell_type": "code",
   "execution_count": 140,
   "metadata": {},
   "outputs": [
    {
     "data": {
      "text/plain": [
       "'The Quick Brown Fox'"
      ]
     },
     "execution_count": 140,
     "metadata": {},
     "output_type": "execute_result"
    }
   ],
   "source": [
    "title_case('the quick brown fox')"
   ]
  },
  {
   "cell_type": "markdown",
   "metadata": {},
   "source": [
    "### Replace(Yer değiştir)"
   ]
  },
  {
   "cell_type": "code",
   "execution_count": 141,
   "metadata": {},
   "outputs": [],
   "source": [
    "def title_case(title, minor_words=''):\n",
    "    minor_words = minor_words.split()\n",
    "    title = title.split()\n",
    "    \n",
    "    son = 0\n",
    "    kelime = 0\n",
    "    kelime_dizi = []\n",
    "\n",
    "    for i in range(len(title)):\n",
    "        if title[i] in minor_words[:-1]:\n",
    "            kelime = i\n",
    "            kelime_dizi.append(i)\n",
    "        if title[i] == minor_words[-1]:\n",
    "            son = i\n",
    "    \n",
    "\n",
    "    for i in range(len(title)):\n",
    "        title[son] = minor_words[-1]\n",
    "        for k in kelime_dizi:\n",
    "            if kelime_dizi[k] == i:\n",
    "                title[kelime] = title[i]\n",
    "    \n",
    "    title[son], title[kelime] = title[kelime], title[son]\n",
    "    return title\n"
   ]
  },
  {
   "cell_type": "code",
   "execution_count": null,
   "metadata": {},
   "outputs": [],
   "source": []
  }
 ],
 "metadata": {
  "interpreter": {
   "hash": "8b03d4cd05d71d535371b426da57de743181e37d8974a9636efe6e78873daaed"
  },
  "kernelspec": {
   "display_name": "Python 3.9.6 64-bit",
   "language": "python",
   "name": "python3"
  },
  "language_info": {
   "codemirror_mode": {
    "name": "ipython",
    "version": 3
   },
   "file_extension": ".py",
   "mimetype": "text/x-python",
   "name": "python",
   "nbconvert_exporter": "python",
   "pygments_lexer": "ipython3",
   "version": "3.9.6"
  },
  "orig_nbformat": 4
 },
 "nbformat": 4,
 "nbformat_minor": 2
}
