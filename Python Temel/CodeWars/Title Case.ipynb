{
 "cells": [
  {
   "cell_type": "markdown",
   "metadata": {},
   "source": [
    "### Example\n",
    "\n",
    "```python\n",
    "title_case('a clash of KINGS', 'a an the of') # should return: 'A Clash of Kings'\n",
    "title_case('THE WIND IN THE WILLOWS', 'The In') # should return: 'The Wind in the Willows'\n",
    "title_case('the quick brown fox') # should return: 'The Quick Brown Fox'\n",
    "```"
   ]
  },
  {
   "cell_type": "code",
   "execution_count": 62,
   "metadata": {},
   "outputs": [],
   "source": [
    "def title_case(title, minor_words=''):\n",
    "    minor_words = minor_words.split()\n",
    "    title = title.split()\n",
    "    for i in range(len(title)):\n",
    "        if title[i] in minor_words[:-1]:\n",
    "            n = minor_words[-1]\n",
    "            n, title[i] = title[i], n\n",
    "    print(title)\n",
    "    print(minor_words)\n"
   ]
  },
  {
   "cell_type": "code",
   "execution_count": 63,
   "metadata": {},
   "outputs": [
    {
     "name": "stdout",
     "output_type": "stream",
     "text": [
      "['of', 'clash', 'of', 'KINGS']\n",
      "['a', 'an', 'the', 'of']\n"
     ]
    }
   ],
   "source": [
    "title_case('a clash of KINGS', 'a an the of')"
   ]
  },
  {
   "cell_type": "code",
   "execution_count": null,
   "metadata": {},
   "outputs": [],
   "source": [
    "if title[i] in minor_words[:-1]:\n",
    "            n = minor_words[-1]\n",
    "            n, title[i] = title[i], n"
   ]
  }
 ],
 "metadata": {
  "interpreter": {
   "hash": "8b03d4cd05d71d535371b426da57de743181e37d8974a9636efe6e78873daaed"
  },
  "kernelspec": {
   "display_name": "Python 3.9.6 64-bit",
   "language": "python",
   "name": "python3"
  },
  "language_info": {
   "codemirror_mode": {
    "name": "ipython",
    "version": 3
   },
   "file_extension": ".py",
   "mimetype": "text/x-python",
   "name": "python",
   "nbconvert_exporter": "python",
   "pygments_lexer": "ipython3",
   "version": "3.9.6"
  },
  "orig_nbformat": 4
 },
 "nbformat": 4,
 "nbformat_minor": 2
}
