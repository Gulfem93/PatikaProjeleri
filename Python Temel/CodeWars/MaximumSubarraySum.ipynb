{
 "cells": [
  {
   "cell_type": "markdown",
   "metadata": {},
   "source": [
    "## Maksimum alt dizi toplamı\n",
    "```\n",
    "Maksimum toplam alt dizi problemi, bir dizi veya tamsayı listesindeki bitişik bir alt dizinin maksimum toplamını bulmaktan oluşur:\n",
    "```\n",
    "\n",
    "```python\n",
    "max_sequence([-2, 1, -3, 4, -1, 2, 1, -5, 4])\n",
    "# should be 6: [4, -1, 2, 1]\n",
    "```\n",
    "\n",
    "```\n",
    "Kolay durum, listenin yalnızca pozitif sayılardan oluşması ve maksimum toplamın tüm dizinin toplamı olmasıdır. Liste yalnızca negatif sayılardan oluşuyorsa, bunun yerine 0 döndürün.\n",
    "\n",
    "Boş listenin sıfır en büyük toplamı olduğu kabul edilir. Boş liste veya dizinin de geçerli bir alt liste/alt dizi olduğunu unutmayın.\n",
    "```"
   ]
  },
  {
   "cell_type": "code",
   "execution_count": null,
   "metadata": {},
   "outputs": [],
   "source": []
  }
 ],
 "metadata": {
  "language_info": {
   "name": "python"
  },
  "orig_nbformat": 4
 },
 "nbformat": 4,
 "nbformat_minor": 2
}
