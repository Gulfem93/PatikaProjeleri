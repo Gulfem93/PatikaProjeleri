{
 "cells": [
  {
   "cell_type": "code",
   "execution_count": 4,
   "metadata": {},
   "outputs": [
    {
     "name": "stdout",
     "output_type": "stream",
     "text": [
      "[6, 5, 10]\n",
      "[1, 6, 9, 10]\n",
      "[1, 6, 9]\n"
     ]
    }
   ],
   "source": [
    "if __name__ == '__main__':\n",
    "    N = int(input())\n",
    "    dizi = []\n",
    "\n",
    "    for i in range(N):\n",
    "        new = input().split()\n",
    "        command = new[0]\n",
    "\n",
    "        if command == \"insert\":\n",
    "            dizi.insert(int(new[1]), int(new[2]))\n",
    "        if command == \"append\":\n",
    "            dizi.append(int(new[1]))\n",
    "        if command == \"pop\":\n",
    "            dizi.pop()\n",
    "        if command == \"remove\":\n",
    "            dizi.remove(int(new[1]))\n",
    "        if command == \"sort\":\n",
    "            dizi.sort()\n",
    "        if command == \"print\":\n",
    "            print(dizi) \n",
    "        if command == \"reverse\":\n",
    "            dizi.reverse()\n",
    "\n"
   ]
  }
 ],
 "metadata": {
  "interpreter": {
   "hash": "8b03d4cd05d71d535371b426da57de743181e37d8974a9636efe6e78873daaed"
  },
  "kernelspec": {
   "display_name": "Python 3.9.6 64-bit",
   "language": "python",
   "name": "python3"
  },
  "language_info": {
   "codemirror_mode": {
    "name": "ipython",
    "version": 3
   },
   "file_extension": ".py",
   "mimetype": "text/x-python",
   "name": "python",
   "nbconvert_exporter": "python",
   "pygments_lexer": "ipython3",
   "version": "3.9.6"
  },
  "orig_nbformat": 4
 },
 "nbformat": 4,
 "nbformat_minor": 2
}
