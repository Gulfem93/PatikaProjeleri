{
 "cells": [
  {
   "cell_type": "code",
   "execution_count": 3,
   "metadata": {},
   "outputs": [
    {
     "name": "stdout",
     "output_type": "stream",
     "text": [
      "4\n"
     ]
    }
   ],
   "source": [
    "num = int(input())\n",
    "dizi1 = set(list(input().split()))\n",
    "num2 = int(input())\n",
    "dizi2 = set(list(input().split()))\n",
    "\n",
    "print(len(dizi1.difference(dizi2)))"
   ]
  }
 ],
 "metadata": {
  "interpreter": {
   "hash": "8b03d4cd05d71d535371b426da57de743181e37d8974a9636efe6e78873daaed"
  },
  "kernelspec": {
   "display_name": "Python 3.9.6 64-bit",
   "language": "python",
   "name": "python3"
  },
  "language_info": {
   "codemirror_mode": {
    "name": "ipython",
    "version": 3
   },
   "file_extension": ".py",
   "mimetype": "text/x-python",
   "name": "python",
   "nbconvert_exporter": "python",
   "pygments_lexer": "ipython3",
   "version": "3.9.6"
  },
  "orig_nbformat": 4
 },
 "nbformat": 4,
 "nbformat_minor": 2
}
