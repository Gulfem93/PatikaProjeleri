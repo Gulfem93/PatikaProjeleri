{
 "cells": [
  {
   "cell_type": "code",
   "execution_count": 229,
   "metadata": {},
   "outputs": [],
   "source": [
    "number = int(input())\n",
    "d = set(map(int, input().split()))\n",
    "\n",
    "\n",
    "tekrar = int(input())\n",
    "for i in range(tekrar):\n",
    "    secenek = list(input().split())\n",
    "    command = secenek[0]\n",
    "    \n",
    "    if command == \"pop\":\n",
    "        d.pop()\n",
    "    elif command == \"remove\":\n",
    "        d.remove(int(secenek[1]))\n",
    "    elif command == \"discard\":\n",
    "        d.discard(int(secenek[1]))\n",
    " \n"
   ]
  },
  {
   "cell_type": "code",
   "execution_count": 230,
   "metadata": {},
   "outputs": [
    {
     "data": {
      "text/plain": [
       "{4}"
      ]
     },
     "execution_count": 230,
     "metadata": {},
     "output_type": "execute_result"
    }
   ],
   "source": [
    "d"
   ]
  },
  {
   "cell_type": "code",
   "execution_count": 231,
   "metadata": {},
   "outputs": [
    {
     "name": "stdout",
     "output_type": "stream",
     "text": [
      "4\n"
     ]
    }
   ],
   "source": [
    "num = int(input())\n",
    "data = set(map(int, input().split()))\n",
    "operations = int(input())\n",
    "\n",
    "for x in range(operations):\n",
    "  oper = input().split()\n",
    "  if oper[0] == \"remove\":\n",
    "    data.remove(int(oper[1]))\n",
    "  elif oper[0] == \"discard\":\n",
    "    data.discard(int(oper[1]))\n",
    "  else:\n",
    "    data.pop()\n",
    "    \n",
    "print(sum(data))"
   ]
  }
 ],
 "metadata": {
  "interpreter": {
   "hash": "8b03d4cd05d71d535371b426da57de743181e37d8974a9636efe6e78873daaed"
  },
  "kernelspec": {
   "display_name": "Python 3.9.6 64-bit",
   "language": "python",
   "name": "python3"
  },
  "language_info": {
   "codemirror_mode": {
    "name": "ipython",
    "version": 3
   },
   "file_extension": ".py",
   "mimetype": "text/x-python",
   "name": "python",
   "nbconvert_exporter": "python",
   "pygments_lexer": "ipython3",
   "version": "3.9.6"
  },
  "orig_nbformat": 4
 },
 "nbformat": 4,
 "nbformat_minor": 2
}
