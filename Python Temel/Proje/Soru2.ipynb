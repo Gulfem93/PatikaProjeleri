{
 "cells": [
  {
   "cell_type": "markdown",
   "metadata": {},
   "source": [
    "2. Verilen listenin içindeki elemanları tersine döndüren bir fonksiyon yazın. Eğer listenin içindeki elemanlar da liste içeriyorsa onların elemanlarını da tersine döndürün. Örnek olarak:\n",
    "\n",
    "input: \n",
    "```\n",
    "[[1, 2], [3, 4], [5, 6, 7]]\n",
    "```\n",
    "\n",
    "output: \n",
    "```\n",
    "[[[7, 6, 5], [4, 3], [2, 1]]\n",
    "```"
   ]
  },
  {
   "cell_type": "code",
   "execution_count": 6,
   "metadata": {},
   "outputs": [],
   "source": [
    "def reversed_list (arr):\n",
    "    \n",
    "    for i in range(len(arr)):\n",
    "        if type(arr[i]) == type([]):\n",
    "            arr[i] = arr[i][::-1]\n",
    "            reversed_list(arr[i])\n",
    "    \n",
    "    return (arr[::-1])\n",
    "\n"
   ]
  },
  {
   "cell_type": "code",
   "execution_count": 7,
   "metadata": {},
   "outputs": [
    {
     "name": "stdout",
     "output_type": "stream",
     "text": [
      "[12, 11, [[10, 9, 8], 7, 6], [5, 4, 3], 2, 1]\n"
     ]
    }
   ],
   "source": [
    "\n",
    "arr = [1,2,[3,4,5],[6,7,[8,9,10]],11,12]\n",
    "print(reversed_list(arr))"
   ]
  }
 ],
 "metadata": {
  "interpreter": {
   "hash": "8b03d4cd05d71d535371b426da57de743181e37d8974a9636efe6e78873daaed"
  },
  "kernelspec": {
   "display_name": "Python 3.9.6 64-bit",
   "language": "python",
   "name": "python3"
  },
  "language_info": {
   "codemirror_mode": {
    "name": "ipython",
    "version": 3
   },
   "file_extension": ".py",
   "mimetype": "text/x-python",
   "name": "python",
   "nbconvert_exporter": "python",
   "pygments_lexer": "ipython3",
   "version": "3.9.6"
  },
  "orig_nbformat": 4
 },
 "nbformat": 4,
 "nbformat_minor": 2
}
